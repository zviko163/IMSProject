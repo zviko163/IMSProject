{
 "cells": [
  {
   "cell_type": "markdown",
   "id": "57f36036",
   "metadata": {},
   "source": [
    "#### Melbourne_housing_FULL.csv was obtained from kaggle.com\n",
    "Link: **"
   ]
  },
  {
   "cell_type": "code",
   "execution_count": 35,
   "id": "1c34b0c6",
   "metadata": {},
   "outputs": [],
   "source": [
    "import pandas as pd\n",
    "import numpy as np\n",
    "import matplotlib.pyplot as plt\n",
    "import seaborn as sns"
   ]
  },
  {
   "cell_type": "markdown",
   "id": "042d7526",
   "metadata": {},
   "source": [
    "#### **EXPLORATORY DATA ANALYSIS: DATA PREPROCESSING**"
   ]
  },
  {
   "cell_type": "code",
   "execution_count": 36,
   "id": "458b4a3f",
   "metadata": {},
   "outputs": [
    {
     "data": {
      "text/html": [
       "<div>\n",
       "<style scoped>\n",
       "    .dataframe tbody tr th:only-of-type {\n",
       "        vertical-align: middle;\n",
       "    }\n",
       "\n",
       "    .dataframe tbody tr th {\n",
       "        vertical-align: top;\n",
       "    }\n",
       "\n",
       "    .dataframe thead th {\n",
       "        text-align: right;\n",
       "    }\n",
       "</style>\n",
       "<table border=\"1\" class=\"dataframe\">\n",
       "  <thead>\n",
       "    <tr style=\"text-align: right;\">\n",
       "      <th></th>\n",
       "      <th>Suburb</th>\n",
       "      <th>Address</th>\n",
       "      <th>Rooms</th>\n",
       "      <th>Type</th>\n",
       "      <th>Price</th>\n",
       "      <th>Method</th>\n",
       "      <th>SellerG</th>\n",
       "      <th>Date</th>\n",
       "      <th>Distance</th>\n",
       "      <th>Postcode</th>\n",
       "      <th>...</th>\n",
       "      <th>Bathroom</th>\n",
       "      <th>Car</th>\n",
       "      <th>Landsize</th>\n",
       "      <th>BuildingArea</th>\n",
       "      <th>YearBuilt</th>\n",
       "      <th>CouncilArea</th>\n",
       "      <th>Lattitude</th>\n",
       "      <th>Longtitude</th>\n",
       "      <th>Regionname</th>\n",
       "      <th>Propertycount</th>\n",
       "    </tr>\n",
       "  </thead>\n",
       "  <tbody>\n",
       "    <tr>\n",
       "      <th>0</th>\n",
       "      <td>Abbotsford</td>\n",
       "      <td>68 Studley St</td>\n",
       "      <td>2</td>\n",
       "      <td>h</td>\n",
       "      <td>NaN</td>\n",
       "      <td>SS</td>\n",
       "      <td>Jellis</td>\n",
       "      <td>3/09/2016</td>\n",
       "      <td>2.5</td>\n",
       "      <td>3067.0</td>\n",
       "      <td>...</td>\n",
       "      <td>1.0</td>\n",
       "      <td>1.0</td>\n",
       "      <td>126.0</td>\n",
       "      <td>NaN</td>\n",
       "      <td>NaN</td>\n",
       "      <td>Yarra City Council</td>\n",
       "      <td>-37.8014</td>\n",
       "      <td>144.9958</td>\n",
       "      <td>Northern Metropolitan</td>\n",
       "      <td>4019.0</td>\n",
       "    </tr>\n",
       "    <tr>\n",
       "      <th>1</th>\n",
       "      <td>Abbotsford</td>\n",
       "      <td>85 Turner St</td>\n",
       "      <td>2</td>\n",
       "      <td>h</td>\n",
       "      <td>1480000.0</td>\n",
       "      <td>S</td>\n",
       "      <td>Biggin</td>\n",
       "      <td>3/12/2016</td>\n",
       "      <td>2.5</td>\n",
       "      <td>3067.0</td>\n",
       "      <td>...</td>\n",
       "      <td>1.0</td>\n",
       "      <td>1.0</td>\n",
       "      <td>202.0</td>\n",
       "      <td>NaN</td>\n",
       "      <td>NaN</td>\n",
       "      <td>Yarra City Council</td>\n",
       "      <td>-37.7996</td>\n",
       "      <td>144.9984</td>\n",
       "      <td>Northern Metropolitan</td>\n",
       "      <td>4019.0</td>\n",
       "    </tr>\n",
       "    <tr>\n",
       "      <th>2</th>\n",
       "      <td>Abbotsford</td>\n",
       "      <td>25 Bloomburg St</td>\n",
       "      <td>2</td>\n",
       "      <td>h</td>\n",
       "      <td>1035000.0</td>\n",
       "      <td>S</td>\n",
       "      <td>Biggin</td>\n",
       "      <td>4/02/2016</td>\n",
       "      <td>2.5</td>\n",
       "      <td>3067.0</td>\n",
       "      <td>...</td>\n",
       "      <td>1.0</td>\n",
       "      <td>0.0</td>\n",
       "      <td>156.0</td>\n",
       "      <td>79.0</td>\n",
       "      <td>1900.0</td>\n",
       "      <td>Yarra City Council</td>\n",
       "      <td>-37.8079</td>\n",
       "      <td>144.9934</td>\n",
       "      <td>Northern Metropolitan</td>\n",
       "      <td>4019.0</td>\n",
       "    </tr>\n",
       "    <tr>\n",
       "      <th>3</th>\n",
       "      <td>Abbotsford</td>\n",
       "      <td>18/659 Victoria St</td>\n",
       "      <td>3</td>\n",
       "      <td>u</td>\n",
       "      <td>NaN</td>\n",
       "      <td>VB</td>\n",
       "      <td>Rounds</td>\n",
       "      <td>4/02/2016</td>\n",
       "      <td>2.5</td>\n",
       "      <td>3067.0</td>\n",
       "      <td>...</td>\n",
       "      <td>2.0</td>\n",
       "      <td>1.0</td>\n",
       "      <td>0.0</td>\n",
       "      <td>NaN</td>\n",
       "      <td>NaN</td>\n",
       "      <td>Yarra City Council</td>\n",
       "      <td>-37.8114</td>\n",
       "      <td>145.0116</td>\n",
       "      <td>Northern Metropolitan</td>\n",
       "      <td>4019.0</td>\n",
       "    </tr>\n",
       "    <tr>\n",
       "      <th>4</th>\n",
       "      <td>Abbotsford</td>\n",
       "      <td>5 Charles St</td>\n",
       "      <td>3</td>\n",
       "      <td>h</td>\n",
       "      <td>1465000.0</td>\n",
       "      <td>SP</td>\n",
       "      <td>Biggin</td>\n",
       "      <td>4/03/2017</td>\n",
       "      <td>2.5</td>\n",
       "      <td>3067.0</td>\n",
       "      <td>...</td>\n",
       "      <td>2.0</td>\n",
       "      <td>0.0</td>\n",
       "      <td>134.0</td>\n",
       "      <td>150.0</td>\n",
       "      <td>1900.0</td>\n",
       "      <td>Yarra City Council</td>\n",
       "      <td>-37.8093</td>\n",
       "      <td>144.9944</td>\n",
       "      <td>Northern Metropolitan</td>\n",
       "      <td>4019.0</td>\n",
       "    </tr>\n",
       "  </tbody>\n",
       "</table>\n",
       "<p>5 rows × 21 columns</p>\n",
       "</div>"
      ],
      "text/plain": [
       "       Suburb             Address  Rooms Type      Price Method SellerG  \\\n",
       "0  Abbotsford       68 Studley St      2    h        NaN     SS  Jellis   \n",
       "1  Abbotsford        85 Turner St      2    h  1480000.0      S  Biggin   \n",
       "2  Abbotsford     25 Bloomburg St      2    h  1035000.0      S  Biggin   \n",
       "3  Abbotsford  18/659 Victoria St      3    u        NaN     VB  Rounds   \n",
       "4  Abbotsford        5 Charles St      3    h  1465000.0     SP  Biggin   \n",
       "\n",
       "        Date  Distance  Postcode  ...  Bathroom  Car  Landsize  BuildingArea  \\\n",
       "0  3/09/2016       2.5    3067.0  ...       1.0  1.0     126.0           NaN   \n",
       "1  3/12/2016       2.5    3067.0  ...       1.0  1.0     202.0           NaN   \n",
       "2  4/02/2016       2.5    3067.0  ...       1.0  0.0     156.0          79.0   \n",
       "3  4/02/2016       2.5    3067.0  ...       2.0  1.0       0.0           NaN   \n",
       "4  4/03/2017       2.5    3067.0  ...       2.0  0.0     134.0         150.0   \n",
       "\n",
       "   YearBuilt         CouncilArea Lattitude  Longtitude             Regionname  \\\n",
       "0        NaN  Yarra City Council  -37.8014    144.9958  Northern Metropolitan   \n",
       "1        NaN  Yarra City Council  -37.7996    144.9984  Northern Metropolitan   \n",
       "2     1900.0  Yarra City Council  -37.8079    144.9934  Northern Metropolitan   \n",
       "3        NaN  Yarra City Council  -37.8114    145.0116  Northern Metropolitan   \n",
       "4     1900.0  Yarra City Council  -37.8093    144.9944  Northern Metropolitan   \n",
       "\n",
       "  Propertycount  \n",
       "0        4019.0  \n",
       "1        4019.0  \n",
       "2        4019.0  \n",
       "3        4019.0  \n",
       "4        4019.0  \n",
       "\n",
       "[5 rows x 21 columns]"
      ]
     },
     "execution_count": 36,
     "metadata": {},
     "output_type": "execute_result"
    }
   ],
   "source": [
    "# loading and gathering insights about the dataset\n",
    "df = pd.read_csv(\"../Datasets/Melbourne_housing_FULL.csv\")\n",
    "df.head()"
   ]
  },
  {
   "cell_type": "markdown",
   "id": "cd92d32f",
   "metadata": {},
   "source": [
    "Understanding the dataset"
   ]
  },
  {
   "cell_type": "code",
   "execution_count": 37,
   "id": "89789a8f",
   "metadata": {},
   "outputs": [
    {
     "name": "stdout",
     "output_type": "stream",
     "text": [
      "Suburb             351\n",
      "Address          34009\n",
      "Rooms               12\n",
      "Type                 3\n",
      "Price             2871\n",
      "Method               9\n",
      "SellerG            388\n",
      "Date                78\n",
      "Distance           215\n",
      "Postcode           211\n",
      "Bedroom2            15\n",
      "Bathroom            11\n",
      "Car                 15\n",
      "Landsize          1684\n",
      "BuildingArea       740\n",
      "YearBuilt          160\n",
      "CouncilArea         33\n",
      "Lattitude        13402\n",
      "Longtitude       14524\n",
      "Regionname           8\n",
      "Propertycount      342\n",
      "dtype: int64\n"
     ]
    }
   ],
   "source": [
    "unique_counts = df.nunique()\n",
    "print(unique_counts)"
   ]
  },
  {
   "cell_type": "code",
   "execution_count": 38,
   "id": "23d5eb2d",
   "metadata": {},
   "outputs": [
    {
     "name": "stdout",
     "output_type": "stream",
     "text": [
      "<class 'pandas.core.frame.DataFrame'>\n",
      "RangeIndex: 34857 entries, 0 to 34856\n",
      "Data columns (total 21 columns):\n",
      " #   Column         Non-Null Count  Dtype  \n",
      "---  ------         --------------  -----  \n",
      " 0   Suburb         34857 non-null  object \n",
      " 1   Address        34857 non-null  object \n",
      " 2   Rooms          34857 non-null  int64  \n",
      " 3   Type           34857 non-null  object \n",
      " 4   Price          27247 non-null  float64\n",
      " 5   Method         34857 non-null  object \n",
      " 6   SellerG        34857 non-null  object \n",
      " 7   Date           34857 non-null  object \n",
      " 8   Distance       34856 non-null  float64\n",
      " 9   Postcode       34856 non-null  float64\n",
      " 10  Bedroom2       26640 non-null  float64\n",
      " 11  Bathroom       26631 non-null  float64\n",
      " 12  Car            26129 non-null  float64\n",
      " 13  Landsize       23047 non-null  float64\n",
      " 14  BuildingArea   13742 non-null  float64\n",
      " 15  YearBuilt      15551 non-null  float64\n",
      " 16  CouncilArea    34854 non-null  object \n",
      " 17  Lattitude      26881 non-null  float64\n",
      " 18  Longtitude     26881 non-null  float64\n",
      " 19  Regionname     34854 non-null  object \n",
      " 20  Propertycount  34854 non-null  float64\n",
      "dtypes: float64(12), int64(1), object(8)\n",
      "memory usage: 5.6+ MB\n"
     ]
    }
   ],
   "source": [
    "df.info()"
   ]
  },
  {
   "cell_type": "markdown",
   "id": "14dce533",
   "metadata": {},
   "source": [
    "##### (i). Handling Missing Values"
   ]
  },
  {
   "cell_type": "markdown",
   "id": "54a778ac",
   "metadata": {},
   "source": [
    "**Data Cleaning:**\n",
    "\n",
    "        - to remove (drop) rows with missing values from the important columns, imputting would cause a huge error risk\n",
    "        - to handle missing values in the remaining columns (either imputing or dropping the records)\n",
    "        - in this dataset are potential outliers, they are expected to be valid since many factors are\n",
    "          considered in house pricing\n",
    "\n",
    "**High Priority Features (As per dataset requirement):**\n",
    "\n",
    "        - bedrooms (Bedroom2, Bathroom)\n",
    "        - square footage (Landsize)\n",
    "        - age (YearBuilt)\n",
    "        - location(RegionName, Suburb)\n",
    "        - previous sale prices (Price)"
   ]
  },
  {
   "cell_type": "code",
   "execution_count": 39,
   "id": "5382ec93",
   "metadata": {},
   "outputs": [],
   "source": [
    "# noting down not needed columns to remove them\n",
    "unwanted_cols = ['Lattitude', 'Longtitude', 'Method', 'Distance', 'Date', 'Postcode']\n",
    "df.drop(unwanted_cols, axis=1, inplace=True)"
   ]
  },
  {
   "cell_type": "markdown",
   "id": "c32d525f",
   "metadata": {},
   "source": [
    "To minimize the risk of errors, we'll drop records with missing prices as Price is the high-importance dependent variable"
   ]
  },
  {
   "cell_type": "code",
   "execution_count": 40,
   "id": "e77f462b",
   "metadata": {},
   "outputs": [
    {
     "name": "stdout",
     "output_type": "stream",
     "text": [
      "<class 'pandas.core.frame.DataFrame'>\n",
      "Index: 27247 entries, 1 to 34856\n",
      "Data columns (total 15 columns):\n",
      " #   Column         Non-Null Count  Dtype  \n",
      "---  ------         --------------  -----  \n",
      " 0   Suburb         27247 non-null  object \n",
      " 1   Address        27247 non-null  object \n",
      " 2   Rooms          27247 non-null  int64  \n",
      " 3   Type           27247 non-null  object \n",
      " 4   Price          27247 non-null  float64\n",
      " 5   SellerG        27247 non-null  object \n",
      " 6   Bedroom2       20806 non-null  float64\n",
      " 7   Bathroom       20800 non-null  float64\n",
      " 8   Car            20423 non-null  float64\n",
      " 9   Landsize       17982 non-null  float64\n",
      " 10  BuildingArea   10656 non-null  float64\n",
      " 11  YearBuilt      12084 non-null  float64\n",
      " 12  CouncilArea    27244 non-null  object \n",
      " 13  Regionname     27244 non-null  object \n",
      " 14  Propertycount  27244 non-null  float64\n",
      "dtypes: float64(8), int64(1), object(6)\n",
      "memory usage: 3.3+ MB\n"
     ]
    }
   ],
   "source": [
    "# dropping rows missing Price\n",
    "df.dropna(subset=['Price'], inplace=True)\n",
    "df.info()"
   ]
  },
  {
   "cell_type": "markdown",
   "id": "0ac541f7",
   "metadata": {},
   "source": [
    "To fill missing values using using the mean in each column to minimize errors\n",
    "\n",
    "We'll encode categorical data first using LabelEncoder"
   ]
  },
  {
   "cell_type": "code",
   "execution_count": 41,
   "id": "609ddcfd",
   "metadata": {},
   "outputs": [],
   "source": [
    "from sklearn.preprocessing import LabelEncoder\n",
    "# encoding categorical variables\n",
    "le = LabelEncoder()\n",
    "categorical_cols = [col for col in df.columns if df[col].dtype == 'object']\n",
    "for col in categorical_cols:\n",
    "    df[col] = le.fit_transform(df[col])\n",
    "    "
   ]
  },
  {
   "cell_type": "code",
   "execution_count": 42,
   "id": "c315c9d9",
   "metadata": {},
   "outputs": [
    {
     "name": "stdout",
     "output_type": "stream",
     "text": [
      "<class 'pandas.core.frame.DataFrame'>\n",
      "Index: 27247 entries, 1 to 34856\n",
      "Data columns (total 15 columns):\n",
      " #   Column         Non-Null Count  Dtype  \n",
      "---  ------         --------------  -----  \n",
      " 0   Suburb         27247 non-null  int64  \n",
      " 1   Address        27247 non-null  int64  \n",
      " 2   Rooms          27247 non-null  int64  \n",
      " 3   Type           27247 non-null  int64  \n",
      " 4   Price          27247 non-null  float64\n",
      " 5   SellerG        27247 non-null  int64  \n",
      " 6   Bedroom2       20806 non-null  float64\n",
      " 7   Bathroom       20800 non-null  float64\n",
      " 8   Car            20423 non-null  float64\n",
      " 9   Landsize       17982 non-null  float64\n",
      " 10  BuildingArea   10656 non-null  float64\n",
      " 11  YearBuilt      12084 non-null  float64\n",
      " 12  CouncilArea    27247 non-null  int64  \n",
      " 13  Regionname     27247 non-null  int64  \n",
      " 14  Propertycount  27244 non-null  float64\n",
      "dtypes: float64(8), int64(7)\n",
      "memory usage: 3.3 MB\n"
     ]
    }
   ],
   "source": [
    "df.info()"
   ]
  },
  {
   "cell_type": "code",
   "execution_count": 43,
   "id": "40245224",
   "metadata": {},
   "outputs": [
    {
     "name": "stdout",
     "output_type": "stream",
     "text": [
      "<class 'pandas.core.frame.DataFrame'>\n",
      "Index: 27247 entries, 1 to 34856\n",
      "Data columns (total 15 columns):\n",
      " #   Column         Non-Null Count  Dtype  \n",
      "---  ------         --------------  -----  \n",
      " 0   Suburb         27247 non-null  int64  \n",
      " 1   Address        27247 non-null  int64  \n",
      " 2   Rooms          27247 non-null  int64  \n",
      " 3   Type           27247 non-null  int64  \n",
      " 4   Price          27247 non-null  float64\n",
      " 5   SellerG        27247 non-null  int64  \n",
      " 6   Bedroom2       27247 non-null  float64\n",
      " 7   Bathroom       27247 non-null  float64\n",
      " 8   Car            27247 non-null  float64\n",
      " 9   Landsize       27247 non-null  float64\n",
      " 10  BuildingArea   27247 non-null  float64\n",
      " 11  YearBuilt      27247 non-null  float64\n",
      " 12  CouncilArea    27247 non-null  int64  \n",
      " 13  Regionname     27247 non-null  int64  \n",
      " 14  Propertycount  27247 non-null  float64\n",
      "dtypes: float64(8), int64(7)\n",
      "memory usage: 3.3 MB\n"
     ]
    }
   ],
   "source": [
    "# filling NaNs with the mean in each column\n",
    "df.fillna(df.mean(), inplace=True)\n",
    "df.info()"
   ]
  },
  {
   "cell_type": "code",
   "execution_count": 44,
   "id": "f1056f26",
   "metadata": {},
   "outputs": [
    {
     "data": {
      "text/html": [
       "<div>\n",
       "<style scoped>\n",
       "    .dataframe tbody tr th:only-of-type {\n",
       "        vertical-align: middle;\n",
       "    }\n",
       "\n",
       "    .dataframe tbody tr th {\n",
       "        vertical-align: top;\n",
       "    }\n",
       "\n",
       "    .dataframe thead th {\n",
       "        text-align: right;\n",
       "    }\n",
       "</style>\n",
       "<table border=\"1\" class=\"dataframe\">\n",
       "  <thead>\n",
       "    <tr style=\"text-align: right;\">\n",
       "      <th></th>\n",
       "      <th>Suburb</th>\n",
       "      <th>Address</th>\n",
       "      <th>Rooms</th>\n",
       "      <th>Type</th>\n",
       "      <th>Price</th>\n",
       "      <th>SellerG</th>\n",
       "      <th>Bedroom2</th>\n",
       "      <th>Bathroom</th>\n",
       "      <th>Car</th>\n",
       "      <th>Landsize</th>\n",
       "      <th>BuildingArea</th>\n",
       "      <th>YearBuilt</th>\n",
       "      <th>CouncilArea</th>\n",
       "      <th>Regionname</th>\n",
       "      <th>Propertycount</th>\n",
       "    </tr>\n",
       "  </thead>\n",
       "  <tbody>\n",
       "    <tr>\n",
       "      <th>1</th>\n",
       "      <td>0</td>\n",
       "      <td>25617</td>\n",
       "      <td>2</td>\n",
       "      <td>0</td>\n",
       "      <td>1480000.0</td>\n",
       "      <td>32</td>\n",
       "      <td>2.0</td>\n",
       "      <td>1.0</td>\n",
       "      <td>1.0</td>\n",
       "      <td>202.0</td>\n",
       "      <td>156.834586</td>\n",
       "      <td>1966.609153</td>\n",
       "      <td>31</td>\n",
       "      <td>2</td>\n",
       "      <td>4019.0</td>\n",
       "    </tr>\n",
       "    <tr>\n",
       "      <th>2</th>\n",
       "      <td>0</td>\n",
       "      <td>12162</td>\n",
       "      <td>2</td>\n",
       "      <td>0</td>\n",
       "      <td>1035000.0</td>\n",
       "      <td>32</td>\n",
       "      <td>2.0</td>\n",
       "      <td>1.0</td>\n",
       "      <td>0.0</td>\n",
       "      <td>156.0</td>\n",
       "      <td>79.000000</td>\n",
       "      <td>1900.000000</td>\n",
       "      <td>31</td>\n",
       "      <td>2</td>\n",
       "      <td>4019.0</td>\n",
       "    </tr>\n",
       "    <tr>\n",
       "      <th>4</th>\n",
       "      <td>0</td>\n",
       "      <td>19857</td>\n",
       "      <td>3</td>\n",
       "      <td>0</td>\n",
       "      <td>1465000.0</td>\n",
       "      <td>32</td>\n",
       "      <td>3.0</td>\n",
       "      <td>2.0</td>\n",
       "      <td>0.0</td>\n",
       "      <td>134.0</td>\n",
       "      <td>150.000000</td>\n",
       "      <td>1900.000000</td>\n",
       "      <td>31</td>\n",
       "      <td>2</td>\n",
       "      <td>4019.0</td>\n",
       "    </tr>\n",
       "    <tr>\n",
       "      <th>5</th>\n",
       "      <td>0</td>\n",
       "      <td>18371</td>\n",
       "      <td>3</td>\n",
       "      <td>0</td>\n",
       "      <td>850000.0</td>\n",
       "      <td>32</td>\n",
       "      <td>3.0</td>\n",
       "      <td>2.0</td>\n",
       "      <td>1.0</td>\n",
       "      <td>94.0</td>\n",
       "      <td>156.834586</td>\n",
       "      <td>1966.609153</td>\n",
       "      <td>31</td>\n",
       "      <td>2</td>\n",
       "      <td>4019.0</td>\n",
       "    </tr>\n",
       "    <tr>\n",
       "      <th>6</th>\n",
       "      <td>0</td>\n",
       "      <td>21399</td>\n",
       "      <td>4</td>\n",
       "      <td>0</td>\n",
       "      <td>1600000.0</td>\n",
       "      <td>206</td>\n",
       "      <td>3.0</td>\n",
       "      <td>1.0</td>\n",
       "      <td>2.0</td>\n",
       "      <td>120.0</td>\n",
       "      <td>142.000000</td>\n",
       "      <td>2014.000000</td>\n",
       "      <td>31</td>\n",
       "      <td>2</td>\n",
       "      <td>4019.0</td>\n",
       "    </tr>\n",
       "  </tbody>\n",
       "</table>\n",
       "</div>"
      ],
      "text/plain": [
       "   Suburb  Address  Rooms  Type      Price  SellerG  Bedroom2  Bathroom  Car  \\\n",
       "1       0    25617      2     0  1480000.0       32       2.0       1.0  1.0   \n",
       "2       0    12162      2     0  1035000.0       32       2.0       1.0  0.0   \n",
       "4       0    19857      3     0  1465000.0       32       3.0       2.0  0.0   \n",
       "5       0    18371      3     0   850000.0       32       3.0       2.0  1.0   \n",
       "6       0    21399      4     0  1600000.0      206       3.0       1.0  2.0   \n",
       "\n",
       "   Landsize  BuildingArea    YearBuilt  CouncilArea  Regionname  Propertycount  \n",
       "1     202.0    156.834586  1966.609153           31           2         4019.0  \n",
       "2     156.0     79.000000  1900.000000           31           2         4019.0  \n",
       "4     134.0    150.000000  1900.000000           31           2         4019.0  \n",
       "5      94.0    156.834586  1966.609153           31           2         4019.0  \n",
       "6     120.0    142.000000  2014.000000           31           2         4019.0  "
      ]
     },
     "execution_count": 44,
     "metadata": {},
     "output_type": "execute_result"
    }
   ],
   "source": [
    "df.head()"
   ]
  },
  {
   "cell_type": "code",
   "execution_count": 45,
   "id": "94300072",
   "metadata": {},
   "outputs": [
    {
     "data": {
      "image/png": "[encoded data removed]",
      "text/plain": [
       "<Figure size 640x480 with 1 Axes>"
      ]
     },
     "metadata": {},
     "output_type": "display_data"
    }
   ],
   "source": [
    "sns.boxplot(data=df, x='Type', y='Price')\n",
    "plt.show()"
   ]
  },
  {
   "cell_type": "code",
   "execution_count": 46,
   "id": "50f84cf5",
   "metadata": {},
   "outputs": [
    {
     "data": {
      "text/plain": [
       "(180.0, 200.0)"
      ]
     },
     "execution_count": 46,
     "metadata": {},
     "output_type": "execute_result"
    },
    {
     "data": {
      "image/png": "[encoded data removed]",
      "text/plain": [
       "<Figure size 640x480 with 1 Axes>"
      ]
     },
     "metadata": {},
     "output_type": "display_data"
    }
   ],
   "source": [
    "sns.scatterplot(data=df, x='Landsize', y='Price')\n",
    "plt.xlim(left=180, right=200)  # Adjust \"right\" to extend the x-axis"
   ]
  },
  {
   "cell_type": "code",
   "execution_count": null,
   "id": "6b6801c1",
   "metadata": {},
   "outputs": [],
   "source": []
  }
 ],
 "metadata": {
  "kernelspec": {
   "display_name": "Python 3",
   "language": "python",
   "name": "python3"
  },
  "language_info": {
   "codemirror_mode": {
    "name": "ipython",
    "version": 3
   },
   "file_extension": ".py",
   "mimetype": "text/x-python",
   "name": "python",
   "nbconvert_exporter": "python",
   "pygments_lexer": "ipython3",
   "version": "3.12.9"
  }
 },
 "nbformat": 4,
 "nbformat_minor": 5
}
