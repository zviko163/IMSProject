{
 "cells": [
  {
   "cell_type": "code",
   "execution_count": 1,
   "id": "99587269",
   "metadata": {},
   "outputs": [],
   "source": [
    "import pandas as pd\n",
    "import numpy as np"
   ]
  },
  {
   "cell_type": "code",
   "execution_count": 2,
   "id": "b1c5eaf0",
   "metadata": {},
   "outputs": [],
   "source": [
    "df = pd.read_csv('../Datasets/House_price.csv')"
   ]
  },
  {
   "cell_type": "code",
   "execution_count": 3,
   "id": "89c5dbbe",
   "metadata": {},
   "outputs": [
    {
     "name": "stdout",
     "output_type": "stream",
     "text": [
      "<class 'pandas.core.frame.DataFrame'>\n",
      "RangeIndex: 4548 entries, 0 to 4547\n",
      "Data columns (total 7 columns):\n",
      " #   Column              Non-Null Count  Dtype  \n",
      "---  ------              --------------  -----  \n",
      " 0   Avg. Area Income    4548 non-null   float64\n",
      " 1   House Age           4548 non-null   float64\n",
      " 2   Number of Rooms     4548 non-null   float64\n",
      " 3   Number of Bedrooms  4548 non-null   float64\n",
      " 4   Area Population     4548 non-null   float64\n",
      " 5   Price               4548 non-null   float64\n",
      " 6   Address             4548 non-null   object \n",
      "dtypes: float64(6), object(1)\n",
      "memory usage: 248.8+ KB\n"
     ]
    }
   ],
   "source": [
    "df.info()"
   ]
  },
  {
   "cell_type": "code",
   "execution_count": null,
   "id": "76b06ac2",
   "metadata": {},
   "outputs": [],
   "source": []
  }
 ],
 "metadata": {
  "kernelspec": {
   "display_name": "Python 3",
   "language": "python",
   "name": "python3"
  },
  "language_info": {
   "codemirror_mode": {
    "name": "ipython",
    "version": 3
   },
   "file_extension": ".py",
   "mimetype": "text/x-python",
   "name": "python",
   "nbconvert_exporter": "python",
   "pygments_lexer": "ipython3",
   "version": "3.12.9"
  }
 },
 "nbformat": 4,
 "nbformat_minor": 5
}
